{
 "cells": [
  {
   "cell_type": "code",
   "execution_count": 1,
   "metadata": {},
   "outputs": [
    {
     "name": "stderr",
     "output_type": "stream",
     "text": [
      "/home/vscode/.local/lib/python3.9/site-packages/tqdm/auto.py:21: TqdmWarning: IProgress not found. Please update jupyter and ipywidgets. See https://ipywidgets.readthedocs.io/en/stable/user_install.html\n",
      "  from .autonotebook import tqdm as notebook_tqdm\n"
     ]
    }
   ],
   "source": [
    "from atomate.openmx.database import openmxCalcDb\n",
    "import pandas as pd\n",
    "\n",
    "DB = openmxCalcDb.from_db_file(\"db.json\")"
   ]
  },
  {
   "cell_type": "code",
   "execution_count": 18,
   "metadata": {},
   "outputs": [
    {
     "data": {
      "text/html": [
       "<div>\n",
       "<style scoped>\n",
       "    .dataframe tbody tr th:only-of-type {\n",
       "        vertical-align: middle;\n",
       "    }\n",
       "\n",
       "    .dataframe tbody tr th {\n",
       "        vertical-align: top;\n",
       "    }\n",
       "\n",
       "    .dataframe thead th {\n",
       "        text-align: right;\n",
       "    }\n",
       "</style>\n",
       "<table border=\"1\" class=\"dataframe\">\n",
       "  <thead>\n",
       "    <tr style=\"text-align: right;\">\n",
       "      <th></th>\n",
       "      <th>task_id</th>\n",
       "      <th>dir_name</th>\n",
       "      <th>ase_calc</th>\n",
       "      <th>calcs_reversed</th>\n",
       "      <th>deeph</th>\n",
       "      <th>last_updated</th>\n",
       "      <th>state</th>\n",
       "      <th>task_label</th>\n",
       "      <th>formula</th>\n",
       "      <th>pmg_structure</th>\n",
       "    </tr>\n",
       "  </thead>\n",
       "  <tbody>\n",
       "    <tr>\n",
       "      <th>0</th>\n",
       "      <td>1</td>\n",
       "      <td>/scratch/j.tsai/icsd-test/test/block_2024-02-1...</td>\n",
       "      <td>{'system_currentdirectory': './', 'system_name...</td>\n",
       "      <td>[{'openmx_out_compression': 'zlib', 'openmx_ou...</td>\n",
       "      <td>{'fermi_level': -4.391994437265897, 'isspinful...</td>\n",
       "      <td>2024-02-14 17:07:28.151</td>\n",
       "      <td>successful</td>\n",
       "      <td>scf</td>\n",
       "      <td>NaN</td>\n",
       "      <td>NaN</td>\n",
       "    </tr>\n",
       "    <tr>\n",
       "      <th>1</th>\n",
       "      <td>2</td>\n",
       "      <td>/scratch/j.tsai/icsd-test/test/block_2024-02-1...</td>\n",
       "      <td>{'system_currentdirectory': './', 'system_name...</td>\n",
       "      <td>[{'openmx_out': '/scratch/j.tsai/icsd-test/tes...</td>\n",
       "      <td>{'fermi_level': -4.391994437265897, 'isspinful...</td>\n",
       "      <td>2024-02-14 21:22:53.318</td>\n",
       "      <td>successful</td>\n",
       "      <td>scf</td>\n",
       "      <td>Ga4 As4</td>\n",
       "      <td>{'@module': 'pymatgen.core.structure', '@class...</td>\n",
       "    </tr>\n",
       "  </tbody>\n",
       "</table>\n",
       "</div>"
      ],
      "text/plain": [
       "   task_id                                           dir_name  \\\n",
       "0        1  /scratch/j.tsai/icsd-test/test/block_2024-02-1...   \n",
       "1        2  /scratch/j.tsai/icsd-test/test/block_2024-02-1...   \n",
       "\n",
       "                                            ase_calc  \\\n",
       "0  {'system_currentdirectory': './', 'system_name...   \n",
       "1  {'system_currentdirectory': './', 'system_name...   \n",
       "\n",
       "                                      calcs_reversed  \\\n",
       "0  [{'openmx_out_compression': 'zlib', 'openmx_ou...   \n",
       "1  [{'openmx_out': '/scratch/j.tsai/icsd-test/tes...   \n",
       "\n",
       "                                               deeph            last_updated  \\\n",
       "0  {'fermi_level': -4.391994437265897, 'isspinful... 2024-02-14 17:07:28.151   \n",
       "1  {'fermi_level': -4.391994437265897, 'isspinful... 2024-02-14 21:22:53.318   \n",
       "\n",
       "        state task_label  formula  \\\n",
       "0  successful        scf      NaN   \n",
       "1  successful        scf  Ga4 As4   \n",
       "\n",
       "                                       pmg_structure  \n",
       "0                                                NaN  \n",
       "1  {'@module': 'pymatgen.core.structure', '@class...  "
      ]
     },
     "execution_count": 18,
     "metadata": {},
     "output_type": "execute_result"
    }
   ],
   "source": [
    "df = DB.collection.find({}, {\"_id\": 0,}).sort(\"task_id\", 1)\n",
    "\n",
    "df = pd.DataFrame(list(df))\n",
    "\n",
    "# move task_id to the front\n",
    "df.set_index(\"task_id\", inplace=True)\n",
    "df.reset_index(inplace=True)\n",
    "df"
   ]
  }
 ],
 "metadata": {
  "kernelspec": {
   "display_name": "Python 3",
   "language": "python",
   "name": "python3"
  },
  "language_info": {
   "codemirror_mode": {
    "name": "ipython",
    "version": 3
   },
   "file_extension": ".py",
   "mimetype": "text/x-python",
   "name": "python",
   "nbconvert_exporter": "python",
   "pygments_lexer": "ipython3",
   "version": "3.9.2"
  }
 },
 "nbformat": 4,
 "nbformat_minor": 2
}
